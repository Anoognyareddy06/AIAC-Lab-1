{
  "nbformat": 4,
  "nbformat_minor": 0,
  "metadata": {
    "colab": {
      "provenance": [],
      "authorship_tag": "ABX9TyMDBRmAU85S8X9PslJRAkYB",
      "include_colab_link": true
    },
    "kernelspec": {
      "name": "python3",
      "display_name": "Python 3"
    },
    "language_info": {
      "name": "python"
    }
  },
  "cells": [
    {
      "cell_type": "markdown",
      "metadata": {
        "id": "view-in-github",
        "colab_type": "text"
      },
      "source": [
        "<a href=\"https://colab.research.google.com/github/Anoognyareddy06/AIAC-Lab-1/blob/main/Lab2_1.ipynb\" target=\"_parent\"><img src=\"https://colab.research.google.com/assets/colab-badge.svg\" alt=\"Open In Colab\"/></a>"
      ]
    },
    {
      "cell_type": "markdown",
      "source": [
        "**Task 1:** write a Python function that reads a list of numbers and calculates the mean, minimum, and maximum values."
      ],
      "metadata": {
        "id": "GcmX9OBVZrMm"
      }
    },
    {
      "cell_type": "markdown",
      "source": [
        "**Prompt:** Generate a python function that reads a list of numbers and calculates the mean, minimum, and maximum values."
      ],
      "metadata": {
        "id": "B74u5CI6e8Bi"
      }
    },
    {
      "cell_type": "code",
      "source": [
        "def calculate_stats(numbers):\n",
        "  \"\"\"\n",
        "  Calculates the mean, minimum, and maximum of a list of numbers.\n",
        "\n",
        "  Args:\n",
        "    numbers: A list of numbers.\n",
        "\n",
        "  Returns:\n",
        "    A tuple containing the mean, minimum, and maximum values.\n",
        "    Returns (None, None, None) if the input list is empty.\n",
        "  \"\"\"\n",
        "  if not numbers:\n",
        "    return None, None, None\n",
        "\n",
        "  mean = sum(numbers) / len(numbers)\n",
        "  minimum = min(numbers)\n",
        "  maximum = max(numbers)\n",
        "\n",
        "  return mean, minimum, maximum\n",
        "\n",
        "# Example usage:\n",
        "my_list = [1, 5, 2, 8, 3, 9, 4, 7, 6]\n",
        "mean_val, min_val, max_val = calculate_stats(my_list)\n",
        "\n",
        "print(f\"List: {my_list}\")\n",
        "print(f\"Mean: {mean_val}\")\n",
        "print(f\"Minimum: {min_val}\")\n",
        "print(f\"Maximum: {max_val}\")\n",
        "\n",
        "empty_list = []\n",
        "mean_val_empty, min_val_empty, max_val_empty = calculate_stats(empty_list)\n",
        "print(f\"\\nList: {empty_list}\")\n",
        "print(f\"Mean: {mean_val_empty}\")\n",
        "print(f\"Minimum: {min_val_empty}\")\n",
        "print(f\"Maximum: {max_val_empty}\")"
      ],
      "metadata": {
        "colab": {
          "base_uri": "https://localhost:8080/"
        },
        "id": "cCZrKxNJahXj",
        "outputId": "05b8ed44-089c-425a-a298-37a2a0dcae5c"
      },
      "execution_count": null,
      "outputs": [
        {
          "output_type": "stream",
          "name": "stdout",
          "text": [
            "List: [1, 5, 2, 8, 3, 9, 4, 7, 6]\n",
            "Mean: 5.0\n",
            "Minimum: 1\n",
            "Maximum: 9\n",
            "\n",
            "List: []\n",
            "Mean: None\n",
            "Minimum: None\n",
            "Maximum: None\n"
          ]
        }
      ]
    },
    {
      "cell_type": "markdown",
      "source": [
        "Explaination:\n",
        "The code defines a Python function calculate_stats that takes a list of numbers. It first checks if the list is empty. If it is, it returns None for the mean, minimum, and maximum. If the list is not empty, it calculates the mean by summing the numbers and dividing by the count. It then finds the minimum and maximum values using built-in functions. Finally, it returns the calculated mean, minimum, and maximum as a tuple. The code also includes example usage: It calls calculate_stats with a list of numbers and prints the results. It then calls calculate_stats with an empty list to demonstrate the empty list handling and prints those results. This function provides a simple way to get basic statistics from a list of numbers. It's a clear and well-commented example of a Python function. The examples show how the function behaves with different inputs. This covers the core functionality and usage of the provided code."
      ],
      "metadata": {
        "id": "Gtwemq8RctcF"
      }
    },
    {
      "cell_type": "markdown",
      "source": [
        "**Task-2:** Compare Gemini and Copilot outputs for a Python function that\n",
        "checks whether a number is an Armstrong number. Document the\n",
        "steps, prompts, and outputs"
      ],
      "metadata": {
        "id": "4Xos8xV1dD49"
      }
    },
    {
      "cell_type": "markdown",
      "source": [
        "**Prompt:** Generate a python function that checks if a number is Armstrong Number or not."
      ],
      "metadata": {
        "id": "OmzbUAGtfSN9"
      }
    },
    {
      "cell_type": "markdown",
      "source": [
        "**Gemini Code:**"
      ],
      "metadata": {
        "id": "Kf3AJ1ljeg9v"
      }
    },
    {
      "cell_type": "code",
      "source": [
        "def is_armstrong_number(number):\n",
        "  \"\"\"\n",
        "  Checks if a number is an Armstrong number.\n",
        "\n",
        "  Args:\n",
        "    number: An integer.\n",
        "\n",
        "  Returns:\n",
        "    True if the number is an Armstrong number, False otherwise.\n",
        "  \"\"\"\n",
        "  # Convert the number to a string to easily access each digit\n",
        "  num_str = str(number)\n",
        "  num_digits = len(num_str)\n",
        "  armstrong_sum = 0\n",
        "\n",
        "  # Calculate the sum of each digit raised to the power of the number of digits\n",
        "  for digit in num_str:\n",
        "    armstrong_sum += int(digit) ** num_digits\n",
        "\n",
        "  # Check if the sum is equal to the original number\n",
        "  return armstrong_sum == number\n",
        "\n",
        "# Example usage:\n",
        "num1 = int(input())\n",
        "print(f\"{num1} is an Armstrong number: {is_armstrong_number(num1)}\")\n"
      ],
      "metadata": {
        "colab": {
          "base_uri": "https://localhost:8080/"
        },
        "id": "x_WvcHxtdPXr",
        "outputId": "7da1ffb3-b7ef-4a87-daac-e4e1af49ae8d"
      },
      "execution_count": null,
      "outputs": [
        {
          "output_type": "stream",
          "name": "stdout",
          "text": [
            "153\n",
            "153 is an Armstrong number: True\n"
          ]
        }
      ]
    },
    {
      "cell_type": "markdown",
      "source": [
        "**Output generated by Gemini: ** 153\n",
        "153 is an Armstrong number: True"
      ],
      "metadata": {
        "id": "7sV--KrZfqCu"
      }
    },
    {
      "cell_type": "markdown",
      "source": [
        "**Explaination by Gemini:**\n",
        "\n",
        "The function is_armstrong_number(number) checks whether a given integer is an Armstrong number.\n",
        "\n",
        "An Armstrong number is a number whose value equals the sum of its digits each raised to the power of the number of digits.\n",
        "\n",
        "The input number is first converted to a string using str(number) so we can easily loop through each digit.\n",
        "\n",
        "The length of this string is stored in num_digits, representing how many digits the number has.\n",
        "\n",
        "A variable armstrong_sum is initialized to 0 to store the cumulative sum.\n",
        "\n",
        "The function loops over each digit in the string representation of the number.\n",
        "\n",
        "Inside the loop, digit is converted back to an integer.\n",
        "\n",
        "That digit is then raised to the power num_digits using ** and added to armstrong_sum.\n",
        "\n",
        "After the loop, armstrong_sum contains the sum of all digits raised to the power of the number of digits.\n",
        "\n",
        "The function compares armstrong_sum with the original number.\n",
        "\n",
        "If they are equal, it returns True; otherwise, it returns False.\n",
        "\n",
        "In the example usage, the user inputs a number via input(), which is converted to int.\n",
        "\n",
        "The result of the function call is printed along with the original number.\n",
        "\n",
        "For example, 153 will return True because\n",
        "13+53+33=153\n",
        "1^3+5^3+3^3=153.\n",
        "\n",
        "A non-Armstrong number like 123 will return False."
      ],
      "metadata": {
        "id": "UJmXvsc8estJ"
      }
    },
    {
      "cell_type": "markdown",
      "source": [
        "**Prompt:** Generate a python function that checks if a number is Armstrong number or not."
      ],
      "metadata": {
        "id": "VmtFii0kgpTR"
      }
    },
    {
      "cell_type": "markdown",
      "source": [
        "**Code and output generated by github copilot:**"
      ],
      "metadata": {
        "id": "68KbcJSEh43b"
      }
    },
    {
      "cell_type": "markdown",
      "source": [],
      "metadata": {
        "id": "6VG5OsY4fpYb"
      }
    },
    {
      "cell_type": "markdown",
      "source": [
        "![image.png](data:image/png;base64,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)"
      ],
      "metadata": {
        "id": "xHKv8l22yKy9"
      }
    },
    {
      "cell_type": "markdown",
      "source": [
        "**Copilot code explaination:**"
      ],
      "metadata": {
        "id": "swFk-CcpCV0B"
      }
    },
    {
      "cell_type": "markdown",
      "source": [
        "def is_armstrong(number):\n",
        "Defines a function named is_armstrong that takes one parameter number.\n",
        "\n",
        "digits = str(number)\n",
        "Converts the number to its string form so we can iterate over each digit (e.g., 153 → \"153\").\n",
        "\n",
        "power = len(digits)\n",
        "Finds how many digits the number has (the exponent for each digit). For \"153\" this is 3.\n",
        "\n",
        "total = sum(int(digit) ** power for digit in digits)\n",
        "This does the core work:\n",
        "\n",
        "for digit in digits iterates over each character in the string \"153\" → \"1\", \"5\", \"3\".\n",
        "\n",
        "int(digit) ** power converts the character back to an integer and raises it to power (e.g., 1**3, 5**3, 3**3).\n",
        "\n",
        "sum(...) adds up those values.\n",
        "Note: this is a generator expression inside sum, so it’s memory-efficient (no temporary list is created).\n",
        "\n",
        "return total == number\n",
        "Returns True if the computed total equals the original number, otherwise False.\n",
        "\n",
        "(blank line)\n",
        "\n",
        "def main():\n",
        "Defines the main function which handles user interaction.\n",
        "\n",
        "num = int(input(\"Enter a number: \"))\n",
        "Prompts the user and converts the entered text to an integer. (If the user types something not parseable as integer, Python will raise ValueError.)\n",
        "\n",
        "if is_armstrong(num):\n",
        "Calls is_armstrong with the input number. If it returns True the next line runs.\n",
        "\n",
        "print(f\"{num} is an Armstrong number.\")\n",
        "Prints that the number is an Armstrong number (formatted string).\n",
        "\n",
        "else:\n",
        "If is_armstrong(num) returned False, run the next line.\n",
        "\n",
        "print(f\"{num} is not an Armstrong number.\")\n",
        "Prints that the number is not an Armstrong number.\n",
        "\n",
        "(blank line)\n",
        "\n",
        "if __name__ == \"__main__\":\n",
        "Standard idiom: this checks whether the file is being run directly (not imported). If so, execute the code in the block below.\n",
        "\n",
        "main()\n",
        "Calls the main() function to start the program when the file is run."
      ],
      "metadata": {
        "id": "moTO-hCavXKU"
      }
    },
    {
      "cell_type": "markdown",
      "source": [
        "**Compare:**"
      ],
      "metadata": {
        "id": "tai_aJaxvZtu"
      }
    },
    {
      "cell_type": "markdown",
      "source": [
        "**Function Usage:**\n",
        "\n",
        "**Gemini:** Uses a separate function is_armstrong_number(number) for reusability, modularity, and clarity.\n",
        "\n",
        "**Copilot:** Likely implemented directly in the main script without a dedicated function (based on common class notes style).\n",
        "\n",
        "**Approach to digits:**\n",
        "\n",
        "**Gemini:** Converts the number to a string to iterate over digits and find length.\n",
        "\n",
        "**Copilot:** Often extracts digits mathematically (e.g., n % 10 and n // 10 loop) instead of string conversion.\n",
        "\n",
        "**Readability:**\n",
        "\n",
        "**Gemini:** Very readable due to descriptive variable names (num_str, armstrong_sum, num_digits).\n",
        "\n",
        "**Copilot:** Variable names might be shorter (sum, temp, rem), which is more compact but less descriptive.\n",
        "\n",
        "**Logic for power:**\n",
        "\n",
        "**Gemini:** Uses ** num_digits directly on each digit.\n",
        "\n",
        "**Copilot:** May use pow(digit, count) instead of digit ** count.\n",
        "\n",
        "**Output format:**\n",
        "\n",
        "**Gemini:** Prints in a formatted way: \"X is an Armstrong number: True/False\".\n",
        "\n",
        "**Copilot:** Likely prints only \"Armstrong\" or \"Not Armstrong\", less descriptive output.\n",
        "\n",
        "**Code resuability:**\n",
        "\n",
        "**Gemini:** High — function can be called anywhere.\n",
        "\n",
        "**Copilot:** Lower — logic is embedded directly in the main code.\n"
      ],
      "metadata": {
        "id": "3DQrLyNVDPcU"
      }
    },
    {
      "cell_type": "markdown",
      "source": [
        "**Task-3:**Ask Gemini to explain a Python function (e.g., is_prime(n) or\n",
        "is_palindrome(s)) line by line.\n",
        "\n",
        "Choose either a prime-checking or palindrome-checking function\n",
        "and document the explanation provided by Gemini"
      ],
      "metadata": {
        "id": "g4CQ7-7Mvdyc"
      }
    },
    {
      "cell_type": "markdown",
      "source": [
        "**Prime number using function**\n"
      ],
      "metadata": {
        "id": "T0J-jXqQvxw9"
      }
    },
    {
      "cell_type": "code",
      "source": [
        "def is_prime(n):\n",
        "    \"\"\"Return True if n is a prime number, otherwise False.\"\"\"\n",
        "    if n <= 1:\n",
        "        return False\n",
        "    if n == 2:\n",
        "        return True\n",
        "    if n % 2 == 0:\n",
        "        return False\n",
        "    for i in range(3, int(n ** 0.5) + 1, 2):\n",
        "        if n % i == 0:\n",
        "            return False\n",
        "    return True\n",
        "\n",
        "def main():\n",
        "    try:\n",
        "        num = int(input(\"Enter an integer: \").strip())\n",
        "    except ValueError:\n",
        "        print(\"Invalid input. Please enter a valid integer.\")\n",
        "        return\n",
        "    print(is_prime(num))\n",
        "\n",
        "if __name__ == \"__main__\":\n",
        "    main()\n"
      ],
      "metadata": {
        "colab": {
          "base_uri": "https://localhost:8080/"
        },
        "id": "Ex0LYOp2w_TT",
        "outputId": "fe2395dc-2a79-47b3-b48b-b7293584b9c9"
      },
      "execution_count": 3,
      "outputs": [
        {
          "output_type": "stream",
          "name": "stdout",
          "text": [
            "Enter an integer: 8\n",
            "False\n"
          ]
        }
      ]
    },
    {
      "cell_type": "markdown",
      "source": [
        "**Prompt:** Explain this python program for prime number check using functions."
      ],
      "metadata": {
        "id": "xvhe0PX6xgBz"
      }
    },
    {
      "cell_type": "markdown",
      "source": [
        "**Explaination:**"
      ],
      "metadata": {
        "id": "EtBCnruWyP1m"
      }
    },
    {
      "cell_type": "markdown",
      "source": [
        "def is_prime(n):\n",
        "Defines a function named is_prime that accepts one parameter n (the number to test).\n",
        "\n",
        "\"\"\"Return True if n is a prime number, otherwise False.\"\"\"\n",
        "A docstring describing what the function does — useful for readers and tools.\n",
        "\n",
        "if n <= 1:\n",
        "Checks the smallest cases: numbers 1 and below are not prime.\n",
        "\n",
        "return False\n",
        "Immediately returns False for n <= 1.\n",
        "\n",
        "if n == 2:\n",
        "Tests the number 2, which is prime (and the only even prime).\n",
        "\n",
        "return True\n",
        "Returns True for n == 2.\n",
        "\n",
        "if n % 2 == 0:\n",
        "Checks if n is divisible by 2 (i.e., an even number greater than 2). If so, it can't be prime.\n",
        "\n",
        "return False\n",
        "Returns False for those even, non-2 numbers.\n",
        "\n",
        "for i in range(3, int(n ** 0.5) + 1, 2):\n",
        "Loops over odd divisors starting at 3 up to sqrt(n) (converted to integer) stepping by 2.\n",
        "\n",
        "We only need to test up to the square root of n because a larger factor would pair with a smaller one we already tested.\n",
        "\n",
        "Skipping even numbers (step 2) speeds up the check.\n",
        "\n",
        "if n % i == 0:\n",
        "Tests if i divides n exactly (remainder 0). If yes, n is composite.\n",
        "\n",
        "return False\n",
        "Returns False immediately when a divisor is found.\n",
        "\n",
        "return True\n",
        "If no divisor was found in the loop, n is prime — return True.\n",
        "\n",
        "def main():\n",
        "Defines the main function that handles user input and output.\n",
        "\n",
        "try:\n",
        "Starts a try-block to catch non-integer inputs.\n",
        "\n",
        "num = int(input(\"Enter an integer: \").strip())\n",
        "Prompts the user, reads a line, strips whitespace, and converts it to an int. If conversion fails, a ValueError is raised.\n",
        "\n",
        "except ValueError:\n",
        "Catches the invalid-input exception.\n",
        "\n",
        "print(\"Invalid input. Please enter a valid integer.\")\n",
        "Informs the user the input was invalid.\n",
        "\n",
        "return\n",
        "Exits main() early (no further checks) when the input was invalid.\n",
        "\n",
        "print(is_prime(num))\n",
        "Calls is_prime(num) and prints the boolean result (True or False) to the console.\n",
        "\n",
        "if __name__ == \"__main__\":\n",
        "Standard Python idiom that ensures main() runs only when the script is executed directly (not when imported as a module).\n",
        "\n",
        "main()\n",
        "Calls the main() function to start the program."
      ],
      "metadata": {
        "id": "ku8MSFMPyUHY"
      }
    },
    {
      "cell_type": "markdown",
      "source": [
        "**Task-4:** Install and configure Cursor AI. Use it to generate a Python function (e.g., sum of the first N natural numbers) and test its output"
      ],
      "metadata": {
        "id": "RazM0QMu-Zif"
      }
    },
    {
      "cell_type": "markdown",
      "source": [
        "**Prompt:** Generate a python function to calculate the sum of first N natural numbers."
      ],
      "metadata": {
        "id": "f-gK6jNz-aCV"
      }
    },
    {
      "cell_type": "markdown",
      "source": [
        "![image.png](data:image/png;base64,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)"
      ],
      "metadata": {
        "id": "dCP8yTiT_hFI"
      }
    },
    {
      "cell_type": "markdown",
      "source": [
        "![image.png](data:image/png;base64,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)"
      ],
      "metadata": {
        "id": "jqC5-kqf_VU_"
      }
    },
    {
      "cell_type": "markdown",
      "source": [
        "**Gemini's output and code:**"
      ],
      "metadata": {
        "id": "k95sqcv9_8wr"
      }
    },
    {
      "cell_type": "markdown",
      "source": [
        "**Prompt:** Generate a python function to calculate the sum of first N natural numbers."
      ],
      "metadata": {
        "id": "wKLyBWB5AGAY"
      }
    },
    {
      "cell_type": "code",
      "source": [
        "def sum_of_first_n_natural_numbers(n):\n",
        "  \"\"\"\n",
        "  Calculates the sum of the first N natural numbers.\n",
        "\n",
        "  Args:\n",
        "    n: An integer representing the number of natural numbers.\n",
        "\n",
        "  Returns:\n",
        "    The sum of the first N natural numbers.\n",
        "  \"\"\"\n",
        "  if n < 0:\n",
        "    return \"Input should be a non-negative integer\"\n",
        "  else:\n",
        "    return n * (n + 1) // 2\n",
        "\n",
        "# Example usage:\n",
        "n = 10\n",
        "sum_n = sum_of_first_n_natural_numbers(n)\n",
        "print(f\"The sum of the first {n} natural numbers is: {sum_n}\")\n",
        "\n",
        "n = 0\n",
        "sum_n = sum_of_first_n_natural_numbers(n)\n",
        "print(f\"The sum of the first {n} natural numbers is: {sum_n}\")\n",
        "\n",
        "n = -5\n",
        "sum_n = sum_of_first_n_natural_numbers(n)\n",
        "print(f\"The sum of the first {n} natural numbers is: {sum_n}\")"
      ],
      "metadata": {
        "colab": {
          "base_uri": "https://localhost:8080/"
        },
        "id": "RIZY-t42APTQ",
        "outputId": "138fb49d-14a9-4ced-9e39-df91be8a3e4a"
      },
      "execution_count": 7,
      "outputs": [
        {
          "output_type": "stream",
          "name": "stdout",
          "text": [
            "The sum of the first 10 natural numbers is: 55\n",
            "The sum of the first 0 natural numbers is: 0\n",
            "The sum of the first -5 natural numbers is: Input should be a non-negative integer\n"
          ]
        }
      ]
    },
    {
      "cell_type": "markdown",
      "source": [
        "**Explaination:**"
      ],
      "metadata": {
        "id": "WZ4UdgKBFlLD"
      }
    },
    {
      "cell_type": "markdown",
      "source": [
        "def sum_of_first_n_natural_numbers(n):\n",
        "Defines a function named sum_of_first_n_natural_numbers that takes one parameter n (expected to be the number of first natural numbers to sum).\n",
        "\n",
        "Calculates the sum of the first N natural numbers.\n",
        "\n",
        "Args:\n",
        "  n: An integer representing the number of natural numbers.\n",
        "\n",
        "Returns:\n",
        "  The sum of the first N natural numbers.\n",
        "\"\"\"\n",
        "Explains what the function does, what parameter it expects, and what it returns. This helps readers and tools (e.g., help()).\n",
        "\n",
        "if n < 0:\n",
        "Checks whether n is negative. The function treats negative n as invalid input because \"first N natural numbers\" expects N >= 0.\n",
        "\n",
        "return \"Input should be a non-negative integer\"\n",
        "If n is negative, the function immediately returns this error message string. (Note: this returns a string rather than raising an exception or returning a numeric error code — see suggestions below.)\n",
        "\n",
        "else:\n",
        "If n is not negative, the code proceeds to compute the sum.\n",
        "\n",
        "return n * (n + 1) // 2\n",
        "This line computes and returns the sum using the closed-form formula for the sum of the first n natural numbers:\n",
        "\n",
        "Mathematical formula:\n",
        "1+2+⋯+𝑛=𝑛(𝑛+1)/2.\n",
        "\n",
        "In Python the expression n * (n + 1) // 2 multiplies n and n+1 then uses integer division // to produce an integer result. If n is an integer, the result will be an integer."
      ],
      "metadata": {
        "id": "rB-cfRR0AfnU"
      }
    },
    {
      "cell_type": "markdown",
      "source": [
        "**Task-5:** Students need to write a Python program to calculate the sum of\n",
        "odd numbers and even numbers in a given tuple.\n",
        "\n",
        "Refactor the code to improve logic and readability"
      ],
      "metadata": {
        "id": "Je4tHxRzzVwS"
      }
    },
    {
      "cell_type": "markdown",
      "source": [
        "**Prompt:** Write a Python program that takes a tuple of numbers and calculates:\n",
        "\n",
        "The sum of odd numbers in the tuple.\n",
        "\n",
        "The sum of even numbers in the tuple.\n",
        "Print both sums. The code should be simple, using loops and if conditions.\n",
        "\n"
      ],
      "metadata": {
        "id": "t96L2EkYzhJ1"
      }
    },
    {
      "cell_type": "code",
      "source": [
        "def sum_odd_even(numbers_tuple):\n",
        "  \"\"\"\n",
        "  Calculates the sum of odd and even numbers in a tuple.\n",
        "\n",
        "  Args:\n",
        "    numbers_tuple: A tuple of numbers.\n",
        "\n",
        "  Returns:\n",
        "    A tuple containing the sum of odd numbers and the sum of even numbers.\n",
        "  \"\"\"\n",
        "  sum_odd = 0\n",
        "  sum_even = 0\n",
        "\n",
        "  for number in numbers_tuple:\n",
        "    if number % 2 == 0:\n",
        "      sum_even += number\n",
        "    else:\n",
        "      sum_odd += number\n",
        "\n",
        "  return sum_odd, sum_even\n",
        "\n",
        "# Example usage:\n",
        "my_tuple = (1, 2, 3, 4, 5, 6, 7, 8, 9, 10)\n",
        "odd_sum, even_sum = sum_odd_even(my_tuple)\n",
        "\n",
        "print(f\"Tuple: {my_tuple}\")\n",
        "print(f\"Sum of odd numbers: {odd_sum}\")\n",
        "print(f\"Sum of even numbers: {even_sum}\")\n",
        "\n",
        "empty_tuple = ()\n",
        "odd_sum_empty, even_sum_empty = sum_odd_even(empty_tuple)\n",
        "print(f\"\\nTuple: {empty_tuple}\")\n",
        "print(f\"Sum of odd numbers: {odd_sum_empty}\")\n",
        "print(f\"Sum of even numbers: {even_sum_empty}\")"
      ],
      "metadata": {
        "colab": {
          "base_uri": "https://localhost:8080/"
        },
        "id": "9R7QBw8561DE",
        "outputId": "e7936560-4487-4e71-dc03-b9b00f643b16"
      },
      "execution_count": 6,
      "outputs": [
        {
          "output_type": "stream",
          "name": "stdout",
          "text": [
            "Tuple: (1, 2, 3, 4, 5, 6, 7, 8, 9, 10)\n",
            "Sum of odd numbers: 25\n",
            "Sum of even numbers: 30\n",
            "\n",
            "Tuple: ()\n",
            "Sum of odd numbers: 0\n",
            "Sum of even numbers: 0\n"
          ]
        }
      ]
    },
    {
      "cell_type": "markdown",
      "source": [
        "**Code Refactor:**"
      ],
      "metadata": {
        "id": "gyiIfm4x7KrQ"
      }
    },
    {
      "cell_type": "markdown",
      "source": [
        "**Prompt:** Refactor the following Python program to make the logic shorter, cleaner, and more readable without changing the output"
      ],
      "metadata": {
        "id": "Jbt0HJNw75DX"
      }
    },
    {
      "cell_type": "code",
      "source": [
        "def sum_odd_even_refactored(numbers_tuple):\n",
        "  \"\"\"\n",
        "  Calculates the sum of odd and even numbers in a tuple using a refactored approach.\n",
        "\n",
        "  Args:\n",
        "    numbers_tuple: A tuple of numbers.\n",
        "\n",
        "  Returns:\n",
        "    A tuple containing the sum of odd numbers and the sum of even numbers.\n",
        "  \"\"\"\n",
        "  sum_odd = sum(num for num in numbers_tuple if num % 2 != 0)\n",
        "  sum_even = sum(num for num in numbers_tuple if num % 2 == 0)\n",
        "  return sum_odd, sum_even\n",
        "\n",
        "# Example usage:\n",
        "my_tuple = (1, 2, 3, 4, 5, 6, 7, 8, 9, 10)\n",
        "odd_sum, even_sum = sum_odd_even_refactored(my_tuple)\n",
        "\n",
        "print(f\"Tuple: {my_tuple}\")\n",
        "print(f\"Sum of odd numbers: {odd_sum}\")\n",
        "print(f\"Sum of even numbers: {even_sum}\")\n",
        "\n",
        "empty_tuple = ()\n",
        "odd_sum_empty, even_sum_empty = sum_odd_even_refactored(empty_tuple)\n",
        "print(f\"\\nTuple: {empty_tuple}\")\n",
        "print(f\"Sum of odd numbers: {odd_sum_empty}\")\n",
        "print(f\"Sum of even numbers: {even_sum_empty}\")"
      ],
      "metadata": {
        "colab": {
          "base_uri": "https://localhost:8080/"
        },
        "id": "nNPvISse7Q9Q",
        "outputId": "a398747e-fca4-41e4-8039-ec904bd37cbe"
      },
      "execution_count": 5,
      "outputs": [
        {
          "output_type": "stream",
          "name": "stdout",
          "text": [
            "Tuple: (1, 2, 3, 4, 5, 6, 7, 8, 9, 10)\n",
            "Sum of odd numbers: 25\n",
            "Sum of even numbers: 30\n",
            "\n",
            "Tuple: ()\n",
            "Sum of odd numbers: 0\n",
            "Sum of even numbers: 0\n"
          ]
        }
      ]
    },
    {
      "cell_type": "markdown",
      "source": [
        "**Explaination:**"
      ],
      "metadata": {
        "id": "Xi2MXnkd8JTy"
      }
    },
    {
      "cell_type": "markdown",
      "source": [
        "def sum_odd_even(numbers_tuple):\n",
        "Defines a function named sum_odd_even that accepts one parameter, numbers_tuple (expected to be a tuple of numbers).\n",
        "\n",
        "The docstring (the triple-quoted block)\n",
        "\n",
        "\"\"\"\n",
        "Calculates the sum of odd and even numbers in a tuple.\n",
        "\n",
        "Args:\n",
        "  numbers_tuple: A tuple of numbers.\n",
        "\n",
        "Returns:\n",
        "  A tuple containing the sum of odd numbers and the sum of even numbers.\n",
        "\"\"\"\n",
        "Describes what the function does, its argument, and what it returns. Docstrings are for humans and tools (e.g., help()), they don’t change program behavior.\n",
        "\n",
        "sum_odd = 0\n",
        "Create an accumulator variable to hold the running total of odd numbers. Starts at 0.\n",
        "\n",
        "sum_even = 0\n",
        "Create an accumulator variable to hold the running total of even numbers. Starts at 0.\n",
        "\n",
        "for number in numbers_tuple:\n",
        "Begin a loop that visits each element in the tuple one by one. If the tuple is empty, the loop body is skipped.\n",
        "\n",
        "if number % 2 == 0:\n",
        "Use the modulus operator % to test evenness. If the remainder when dividing number by 2 is 0, the number is even.\n",
        "\n",
        "sum_even += number\n",
        "If the if is true (the number is even), add that number into the sum_even accumulator.\n",
        "\n",
        "else:\n",
        "The branch taken when number % 2 == 0 is false — i.e., the number is odd (assuming integer inputs).\n",
        "\n",
        "sum_odd += number\n",
        "Add the odd number into the sum_odd accumulator.\n",
        "\n",
        "return sum_odd, sum_even\n",
        "After the loop finishes, return a tuple with two values: first sum_odd, then sum_even. Important: the order is (odd_sum, even_sum).\n",
        "\n"
      ],
      "metadata": {
        "id": "P92DBRV-8naY"
      }
    }
  ]
}